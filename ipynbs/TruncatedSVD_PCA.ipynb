{
 "cells": [
  {
   "cell_type": "code",
   "execution_count": 10,
   "metadata": {},
   "outputs": [],
   "source": [
    "import numpy as np\n",
    "import pandas as pd\n",
    "from sklearn.decomposition import TruncatedSVD"
   ]
  },
  {
   "cell_type": "code",
   "execution_count": 6,
   "metadata": {},
   "outputs": [],
   "source": [
    "trip_dummies_df = pd.read_csv('trip_dummies_df.csv', index_col=0)"
   ]
  },
  {
   "cell_type": "code",
   "execution_count": 7,
   "metadata": {
    "collapsed": true
   },
   "outputs": [
    {
     "data": {
      "text/html": [
       "<div>\n",
       "<style scoped>\n",
       "    .dataframe tbody tr th:only-of-type {\n",
       "        vertical-align: middle;\n",
       "    }\n",
       "\n",
       "    .dataframe tbody tr th {\n",
       "        vertical-align: top;\n",
       "    }\n",
       "\n",
       "    .dataframe thead th {\n",
       "        text-align: right;\n",
       "    }\n",
       "</style>\n",
       "<table border=\"1\" class=\"dataframe\">\n",
       "  <thead>\n",
       "    <tr style=\"text-align: right;\">\n",
       "      <th></th>\n",
       "      <th>trip_id</th>\n",
       "      <th>uniqueid</th>\n",
       "      <th>number_of_trips_taken</th>\n",
       "      <th>qtemphigh</th>\n",
       "      <th>qtemplow</th>\n",
       "      <th>qprecipitation</th>\n",
       "      <th>allwt</th>\n",
       "      <th>trip_id_count</th>\n",
       "      <th>qday_Friday</th>\n",
       "      <th>qday_Monday</th>\n",
       "      <th>...</th>\n",
       "      <th>qpurposerecode_Business</th>\n",
       "      <th>qpurposerecode_Commute to/from work</th>\n",
       "      <th>qpurposerecode_Dining</th>\n",
       "      <th>qpurposerecode_Medical visit (doctor's office)</th>\n",
       "      <th>qpurposerecode_Other</th>\n",
       "      <th>qpurposerecode_Personal errands</th>\n",
       "      <th>qpurposerecode_Refused</th>\n",
       "      <th>qpurposerecode_School</th>\n",
       "      <th>qpurposerecode_Shopping</th>\n",
       "      <th>qpurposerecode_Social/recreation</th>\n",
       "    </tr>\n",
       "  </thead>\n",
       "  <tbody>\n",
       "    <tr>\n",
       "      <td>0</td>\n",
       "      <td>3101674</td>\n",
       "      <td>101674</td>\n",
       "      <td>3.0</td>\n",
       "      <td>79.0</td>\n",
       "      <td>58.0</td>\n",
       "      <td>0.00</td>\n",
       "      <td>2.269123</td>\n",
       "      <td>1</td>\n",
       "      <td>0</td>\n",
       "      <td>0</td>\n",
       "      <td>...</td>\n",
       "      <td>0</td>\n",
       "      <td>0</td>\n",
       "      <td>0</td>\n",
       "      <td>0</td>\n",
       "      <td>0</td>\n",
       "      <td>0</td>\n",
       "      <td>0</td>\n",
       "      <td>1</td>\n",
       "      <td>0</td>\n",
       "      <td>0</td>\n",
       "    </tr>\n",
       "    <tr>\n",
       "      <td>1</td>\n",
       "      <td>11202717</td>\n",
       "      <td>10202717</td>\n",
       "      <td>3.0</td>\n",
       "      <td>66.0</td>\n",
       "      <td>51.0</td>\n",
       "      <td>0.25</td>\n",
       "      <td>0.868687</td>\n",
       "      <td>1</td>\n",
       "      <td>0</td>\n",
       "      <td>0</td>\n",
       "      <td>...</td>\n",
       "      <td>0</td>\n",
       "      <td>1</td>\n",
       "      <td>0</td>\n",
       "      <td>0</td>\n",
       "      <td>0</td>\n",
       "      <td>0</td>\n",
       "      <td>0</td>\n",
       "      <td>0</td>\n",
       "      <td>0</td>\n",
       "      <td>0</td>\n",
       "    </tr>\n",
       "    <tr>\n",
       "      <td>2</td>\n",
       "      <td>12202717</td>\n",
       "      <td>10202717</td>\n",
       "      <td>3.0</td>\n",
       "      <td>66.0</td>\n",
       "      <td>51.0</td>\n",
       "      <td>0.25</td>\n",
       "      <td>0.868687</td>\n",
       "      <td>1</td>\n",
       "      <td>0</td>\n",
       "      <td>0</td>\n",
       "      <td>...</td>\n",
       "      <td>0</td>\n",
       "      <td>0</td>\n",
       "      <td>0</td>\n",
       "      <td>0</td>\n",
       "      <td>0</td>\n",
       "      <td>0</td>\n",
       "      <td>0</td>\n",
       "      <td>0</td>\n",
       "      <td>0</td>\n",
       "      <td>1</td>\n",
       "    </tr>\n",
       "    <tr>\n",
       "      <td>3</td>\n",
       "      <td>51200330</td>\n",
       "      <td>50200330</td>\n",
       "      <td>4.0</td>\n",
       "      <td>73.0</td>\n",
       "      <td>57.0</td>\n",
       "      <td>0.00</td>\n",
       "      <td>2.433119</td>\n",
       "      <td>1</td>\n",
       "      <td>0</td>\n",
       "      <td>0</td>\n",
       "      <td>...</td>\n",
       "      <td>0</td>\n",
       "      <td>0</td>\n",
       "      <td>0</td>\n",
       "      <td>0</td>\n",
       "      <td>0</td>\n",
       "      <td>0</td>\n",
       "      <td>0</td>\n",
       "      <td>0</td>\n",
       "      <td>0</td>\n",
       "      <td>1</td>\n",
       "    </tr>\n",
       "    <tr>\n",
       "      <td>4</td>\n",
       "      <td>52200330</td>\n",
       "      <td>50200330</td>\n",
       "      <td>4.0</td>\n",
       "      <td>73.0</td>\n",
       "      <td>57.0</td>\n",
       "      <td>0.00</td>\n",
       "      <td>2.433119</td>\n",
       "      <td>1</td>\n",
       "      <td>0</td>\n",
       "      <td>0</td>\n",
       "      <td>...</td>\n",
       "      <td>0</td>\n",
       "      <td>0</td>\n",
       "      <td>0</td>\n",
       "      <td>0</td>\n",
       "      <td>0</td>\n",
       "      <td>0</td>\n",
       "      <td>0</td>\n",
       "      <td>0</td>\n",
       "      <td>0</td>\n",
       "      <td>1</td>\n",
       "    </tr>\n",
       "  </tbody>\n",
       "</table>\n",
       "<p>5 rows × 272 columns</p>\n",
       "</div>"
      ],
      "text/plain": [
       "    trip_id  uniqueid  number_of_trips_taken  qtemphigh  qtemplow  \\\n",
       "0   3101674    101674                    3.0       79.0      58.0   \n",
       "1  11202717  10202717                    3.0       66.0      51.0   \n",
       "2  12202717  10202717                    3.0       66.0      51.0   \n",
       "3  51200330  50200330                    4.0       73.0      57.0   \n",
       "4  52200330  50200330                    4.0       73.0      57.0   \n",
       "\n",
       "   qprecipitation     allwt  trip_id_count  qday_Friday  qday_Monday  ...  \\\n",
       "0            0.00  2.269123              1            0            0  ...   \n",
       "1            0.25  0.868687              1            0            0  ...   \n",
       "2            0.25  0.868687              1            0            0  ...   \n",
       "3            0.00  2.433119              1            0            0  ...   \n",
       "4            0.00  2.433119              1            0            0  ...   \n",
       "\n",
       "   qpurposerecode_Business  qpurposerecode_Commute to/from work  \\\n",
       "0                        0                                    0   \n",
       "1                        0                                    1   \n",
       "2                        0                                    0   \n",
       "3                        0                                    0   \n",
       "4                        0                                    0   \n",
       "\n",
       "   qpurposerecode_Dining  qpurposerecode_Medical visit (doctor's office)  \\\n",
       "0                      0                                               0   \n",
       "1                      0                                               0   \n",
       "2                      0                                               0   \n",
       "3                      0                                               0   \n",
       "4                      0                                               0   \n",
       "\n",
       "   qpurposerecode_Other  qpurposerecode_Personal errands  \\\n",
       "0                     0                                0   \n",
       "1                     0                                0   \n",
       "2                     0                                0   \n",
       "3                     0                                0   \n",
       "4                     0                                0   \n",
       "\n",
       "   qpurposerecode_Refused  qpurposerecode_School  qpurposerecode_Shopping  \\\n",
       "0                       0                      1                        0   \n",
       "1                       0                      0                        0   \n",
       "2                       0                      0                        0   \n",
       "3                       0                      0                        0   \n",
       "4                       0                      0                        0   \n",
       "\n",
       "   qpurposerecode_Social/recreation  \n",
       "0                                 0  \n",
       "1                                 0  \n",
       "2                                 1  \n",
       "3                                 1  \n",
       "4                                 1  \n",
       "\n",
       "[5 rows x 272 columns]"
      ]
     },
     "execution_count": 7,
     "metadata": {},
     "output_type": "execute_result"
    }
   ],
   "source": [
    "trip_dummies_df.head()"
   ]
  },
  {
   "cell_type": "code",
   "execution_count": 19,
   "metadata": {},
   "outputs": [],
   "source": [
    "#from sklearn documentation: https://scikit-learn.org/stable/modules/generated/sklearn.decomposition.TruncatedSVD.html#sklearn.decomposition.TruncatedSVD\n",
    "\n",
    "X = trip_dummies_df\n",
    "svd = TruncatedSVD(n_components=100, n_iter=7, random_state=42) #100 suggested by sklearn, not sure about other params\n",
    "\n"
   ]
  },
  {
   "cell_type": "code",
   "execution_count": 24,
   "metadata": {},
   "outputs": [
    {
     "data": {
      "text/plain": [
       "TruncatedSVD(algorithm='randomized', n_components=100, n_iter=7,\n",
       "             random_state=42, tol=0.0)"
      ]
     },
     "execution_count": 24,
     "metadata": {},
     "output_type": "execute_result"
    }
   ],
   "source": [
    "svd.fit(X)"
   ]
  },
  {
   "cell_type": "code",
   "execution_count": 21,
   "metadata": {
    "collapsed": true
   },
   "outputs": [
    {
     "name": "stdout",
     "output_type": "stream",
     "text": [
      "[9.97831745e-01 2.16825464e-03 2.21301815e-12 1.48994070e-14\n",
      " 3.85143241e-15 2.35009015e-15 1.64633105e-15 1.27770997e-15\n",
      " 1.01697653e-15 9.35420432e-16 7.64296293e-16 7.45524984e-16\n",
      " 6.20532006e-16 5.19762235e-16 5.14128714e-16 4.54263365e-16\n",
      " 4.43543354e-16 4.08464632e-16 3.93411573e-16 3.67943382e-16\n",
      " 3.63481980e-16 3.41745298e-16 3.27424321e-16 3.04920977e-16\n",
      " 2.92360459e-16 2.77254662e-16 2.62395190e-16 2.55651524e-16\n",
      " 2.45625952e-16 2.33862048e-16 2.30284604e-16 2.20416291e-16\n",
      " 2.19778856e-16 2.11039913e-16 2.06428988e-16 1.98501977e-16\n",
      " 1.92302509e-16 1.82947278e-16 1.79918553e-16 1.76737570e-16\n",
      " 1.75001762e-16 1.67467909e-16 1.64270565e-16 1.62950308e-16\n",
      " 1.58963037e-16 1.57607928e-16 1.54876289e-16 1.50725192e-16\n",
      " 1.46711124e-16 1.40050177e-16 1.37881741e-16 1.35297889e-16\n",
      " 1.32032733e-16 1.27120382e-16 1.22666755e-16 1.22029764e-16\n",
      " 1.19566020e-16 1.15521434e-16 1.12183769e-16 1.11999341e-16\n",
      " 1.09449339e-16 1.06340026e-16 1.04669867e-16 1.01518866e-16\n",
      " 9.88123148e-17 9.75167265e-17 9.57803203e-17 9.44905280e-17\n",
      " 9.16110598e-17 9.09601514e-17 8.96657083e-17 8.68357115e-17\n",
      " 8.39340843e-17 8.30565370e-17 8.11287586e-17 7.99957109e-17\n",
      " 7.60076181e-17 7.48033994e-17 7.07454116e-17 6.84904727e-17\n",
      " 6.63323214e-17 6.42434664e-17 6.08384435e-17 6.01618361e-17\n",
      " 5.83166308e-17 5.48753560e-17 5.42161452e-17 5.18391967e-17\n",
      " 5.09795419e-17 4.97221933e-17 4.85689700e-17 4.76882850e-17\n",
      " 4.65654542e-17 4.32093780e-17 4.24254634e-17 4.19070225e-17\n",
      " 4.03077671e-17 3.99496922e-17 3.83320981e-17 3.58667717e-17]\n"
     ]
    }
   ],
   "source": [
    "print(svd.explained_variance_ratio_)"
   ]
  },
  {
   "cell_type": "code",
   "execution_count": 22,
   "metadata": {
    "collapsed": true
   },
   "outputs": [
    {
     "name": "stdout",
     "output_type": "stream",
     "text": [
      "[3.80204101e+09 1.41980111e+08 4.34223043e+03 3.25122591e+02\n",
      " 1.68994176e+02 1.30814818e+02 1.07947708e+02 9.50927374e+01\n",
      " 8.48356219e+01 8.13944995e+01 7.35440116e+01 7.26401081e+01\n",
      " 6.62687664e+01 6.06477963e+01 6.03190654e+01 5.67008059e+01\n",
      " 5.60336338e+01 5.37761260e+01 5.27641254e+01 5.10335778e+01\n",
      " 5.07248777e+01 4.91850771e+01 4.81370504e+01 4.64522399e+01\n",
      " 4.54862119e+01 4.42948059e+01 4.30926055e+01 4.25343984e+01\n",
      " 4.16921418e+01 4.06813912e+01 4.03687354e+01 3.94948460e+01\n",
      " 3.94371813e+01 3.86452260e+01 3.82209099e+01 3.74801009e+01\n",
      " 3.68898653e+01 3.59818797e+01 3.56821477e+01 3.53654465e+01\n",
      " 3.51912484e+01 3.44253581e+01 3.40951588e+01 3.39578928e+01\n",
      " 3.35399157e+01 3.33965570e+01 3.31059343e+01 3.26593089e+01\n",
      " 3.22215621e+01 3.14814820e+01 3.12367768e+01 3.09427698e+01\n",
      " 3.05677917e+01 2.99930819e+01 2.94629597e+01 2.93865190e+01\n",
      " 2.90882871e+01 2.85921358e+01 2.81759362e+01 2.81529339e+01\n",
      " 2.78304028e+01 2.74322416e+01 2.72159710e+01 2.68032105e+01\n",
      " 2.64434643e+01 2.62695654e+01 2.60346316e+01 2.58588071e+01\n",
      " 2.54617085e+01 2.53710539e+01 2.51899079e+01 2.47891623e+01\n",
      " 2.43715566e+01 2.42437378e+01 2.39607371e+01 2.37928329e+01\n",
      " 2.31921614e+01 2.30077070e+01 2.23749461e+01 2.20154722e+01\n",
      " 2.16659585e+01 2.13219613e+01 2.07492186e+01 2.06335161e+01\n",
      " 2.03146536e+01 1.97061327e+01 1.95874086e+01 1.91532214e+01\n",
      " 1.89937477e+01 1.87580748e+01 1.85392516e+01 1.83704061e+01\n",
      " 1.81528436e+01 1.74864522e+01 1.73271071e+01 1.72209159e+01\n",
      " 1.68891263e+01 1.68139417e+01 1.64700148e+01 1.59315786e+01]\n"
     ]
    }
   ],
   "source": [
    "print(svd.singular_values_)"
   ]
  },
  {
   "cell_type": "code",
   "execution_count": 25,
   "metadata": {
    "collapsed": true
   },
   "outputs": [
    {
     "data": {
      "text/plain": [
       "array([[ 2.32618074e+06,  2.05416707e+06, -4.56888749e+01, ...,\n",
       "         3.16072861e-02, -1.82853895e-02, -7.60230921e-02],\n",
       "       [ 1.51501332e+07,  2.64135831e+05, -5.35682282e+01, ...,\n",
       "         9.19404348e-02,  5.91304269e-02, -1.57959291e-02],\n",
       "       [ 1.58776177e+07,  9.50259947e+05, -3.61165901e+01, ...,\n",
       "        -6.98886275e-02,  3.29815621e-02, -8.41838900e-02],\n",
       "       ...,\n",
       "       [ 8.04211932e+07,  6.84330055e+06,  1.97994288e+02, ...,\n",
       "        -4.19802755e-02, -4.03796272e-02, -1.04852989e-01],\n",
       "       [ 8.11486777e+07,  7.52942466e+06,  2.15436649e+02, ...,\n",
       "        -4.75131759e-02, -4.73397331e-02, -1.04422352e-01],\n",
       "       [ 8.18761622e+07,  8.21554878e+06,  2.32874333e+02, ...,\n",
       "         5.47992241e-03, -1.99877736e-02,  3.61644287e-02]])"
      ]
     },
     "execution_count": 25,
     "metadata": {},
     "output_type": "execute_result"
    }
   ],
   "source": [
    "svd.fit_transform(X)"
   ]
  },
  {
   "cell_type": "code",
   "execution_count": 26,
   "metadata": {
    "collapsed": true
   },
   "outputs": [
    {
     "ename": "ValueError",
     "evalue": "The truth value of a DataFrame is ambiguous. Use a.empty, a.bool(), a.item(), a.any() or a.all().",
     "output_type": "error",
     "traceback": [
      "\u001b[0;31m---------------------------------------------------------------------------\u001b[0m",
      "\u001b[0;31mValueError\u001b[0m                                Traceback (most recent call last)",
      "\u001b[0;32m<ipython-input-26-ae4a8fd0f7d7>\u001b[0m in \u001b[0;36m<module>\u001b[0;34m\u001b[0m\n\u001b[0;32m----> 1\u001b[0;31m \u001b[0msvd\u001b[0m\u001b[0;34m.\u001b[0m\u001b[0mget_params\u001b[0m\u001b[0;34m(\u001b[0m\u001b[0mX\u001b[0m\u001b[0;34m)\u001b[0m\u001b[0;34m\u001b[0m\u001b[0;34m\u001b[0m\u001b[0m\n\u001b[0m",
      "\u001b[0;32m~/opt/anaconda3/lib/python3.7/site-packages/sklearn/base.py\u001b[0m in \u001b[0;36mget_params\u001b[0;34m(self, deep)\u001b[0m\n\u001b[1;32m    192\u001b[0m         \u001b[0;32mfor\u001b[0m \u001b[0mkey\u001b[0m \u001b[0;32min\u001b[0m \u001b[0mself\u001b[0m\u001b[0;34m.\u001b[0m\u001b[0m_get_param_names\u001b[0m\u001b[0;34m(\u001b[0m\u001b[0;34m)\u001b[0m\u001b[0;34m:\u001b[0m\u001b[0;34m\u001b[0m\u001b[0;34m\u001b[0m\u001b[0m\n\u001b[1;32m    193\u001b[0m             \u001b[0mvalue\u001b[0m \u001b[0;34m=\u001b[0m \u001b[0mgetattr\u001b[0m\u001b[0;34m(\u001b[0m\u001b[0mself\u001b[0m\u001b[0;34m,\u001b[0m \u001b[0mkey\u001b[0m\u001b[0;34m,\u001b[0m \u001b[0;32mNone\u001b[0m\u001b[0;34m)\u001b[0m\u001b[0;34m\u001b[0m\u001b[0;34m\u001b[0m\u001b[0m\n\u001b[0;32m--> 194\u001b[0;31m             \u001b[0;32mif\u001b[0m \u001b[0mdeep\u001b[0m \u001b[0;32mand\u001b[0m \u001b[0mhasattr\u001b[0m\u001b[0;34m(\u001b[0m\u001b[0mvalue\u001b[0m\u001b[0;34m,\u001b[0m \u001b[0;34m'get_params'\u001b[0m\u001b[0;34m)\u001b[0m\u001b[0;34m:\u001b[0m\u001b[0;34m\u001b[0m\u001b[0;34m\u001b[0m\u001b[0m\n\u001b[0m\u001b[1;32m    195\u001b[0m                 \u001b[0mdeep_items\u001b[0m \u001b[0;34m=\u001b[0m \u001b[0mvalue\u001b[0m\u001b[0;34m.\u001b[0m\u001b[0mget_params\u001b[0m\u001b[0;34m(\u001b[0m\u001b[0;34m)\u001b[0m\u001b[0;34m.\u001b[0m\u001b[0mitems\u001b[0m\u001b[0;34m(\u001b[0m\u001b[0;34m)\u001b[0m\u001b[0;34m\u001b[0m\u001b[0;34m\u001b[0m\u001b[0m\n\u001b[1;32m    196\u001b[0m                 \u001b[0mout\u001b[0m\u001b[0;34m.\u001b[0m\u001b[0mupdate\u001b[0m\u001b[0;34m(\u001b[0m\u001b[0;34m(\u001b[0m\u001b[0mkey\u001b[0m \u001b[0;34m+\u001b[0m \u001b[0;34m'__'\u001b[0m \u001b[0;34m+\u001b[0m \u001b[0mk\u001b[0m\u001b[0;34m,\u001b[0m \u001b[0mval\u001b[0m\u001b[0;34m)\u001b[0m \u001b[0;32mfor\u001b[0m \u001b[0mk\u001b[0m\u001b[0;34m,\u001b[0m \u001b[0mval\u001b[0m \u001b[0;32min\u001b[0m \u001b[0mdeep_items\u001b[0m\u001b[0;34m)\u001b[0m\u001b[0;34m\u001b[0m\u001b[0;34m\u001b[0m\u001b[0m\n",
      "\u001b[0;32m~/opt/anaconda3/lib/python3.7/site-packages/pandas/core/generic.py\u001b[0m in \u001b[0;36m__nonzero__\u001b[0;34m(self)\u001b[0m\n\u001b[1;32m   1553\u001b[0m             \u001b[0;34m\"The truth value of a {0} is ambiguous. \"\u001b[0m\u001b[0;34m\u001b[0m\u001b[0;34m\u001b[0m\u001b[0m\n\u001b[1;32m   1554\u001b[0m             \"Use a.empty, a.bool(), a.item(), a.any() or a.all().\".format(\n\u001b[0;32m-> 1555\u001b[0;31m                 \u001b[0mself\u001b[0m\u001b[0;34m.\u001b[0m\u001b[0m__class__\u001b[0m\u001b[0;34m.\u001b[0m\u001b[0m__name__\u001b[0m\u001b[0;34m\u001b[0m\u001b[0;34m\u001b[0m\u001b[0m\n\u001b[0m\u001b[1;32m   1556\u001b[0m             )\n\u001b[1;32m   1557\u001b[0m         )\n",
      "\u001b[0;31mValueError\u001b[0m: The truth value of a DataFrame is ambiguous. Use a.empty, a.bool(), a.item(), a.any() or a.all()."
     ]
    }
   ],
   "source": [
    "svd.get_params(X)"
   ]
  },
  {
   "cell_type": "code",
   "execution_count": 28,
   "metadata": {
    "collapsed": true
   },
   "outputs": [
    {
     "ename": "ValueError",
     "evalue": "shapes (7914,272) and (100,272) not aligned: 272 (dim 1) != 100 (dim 0)",
     "output_type": "error",
     "traceback": [
      "\u001b[0;31m---------------------------------------------------------------------------\u001b[0m",
      "\u001b[0;31mValueError\u001b[0m                                Traceback (most recent call last)",
      "\u001b[0;32m<ipython-input-28-5f52d2e3e986>\u001b[0m in \u001b[0;36m<module>\u001b[0;34m\u001b[0m\n\u001b[0;32m----> 1\u001b[0;31m \u001b[0msvd\u001b[0m\u001b[0;34m.\u001b[0m\u001b[0minverse_transform\u001b[0m\u001b[0;34m(\u001b[0m\u001b[0mX\u001b[0m\u001b[0;34m)\u001b[0m\u001b[0;34m\u001b[0m\u001b[0;34m\u001b[0m\u001b[0m\n\u001b[0m",
      "\u001b[0;32m~/opt/anaconda3/lib/python3.7/site-packages/sklearn/decomposition/truncated_svd.py\u001b[0m in \u001b[0;36minverse_transform\u001b[0;34m(self, X)\u001b[0m\n\u001b[1;32m    227\u001b[0m         \"\"\"\n\u001b[1;32m    228\u001b[0m         \u001b[0mX\u001b[0m \u001b[0;34m=\u001b[0m \u001b[0mcheck_array\u001b[0m\u001b[0;34m(\u001b[0m\u001b[0mX\u001b[0m\u001b[0;34m)\u001b[0m\u001b[0;34m\u001b[0m\u001b[0;34m\u001b[0m\u001b[0m\n\u001b[0;32m--> 229\u001b[0;31m         \u001b[0;32mreturn\u001b[0m \u001b[0mnp\u001b[0m\u001b[0;34m.\u001b[0m\u001b[0mdot\u001b[0m\u001b[0;34m(\u001b[0m\u001b[0mX\u001b[0m\u001b[0;34m,\u001b[0m \u001b[0mself\u001b[0m\u001b[0;34m.\u001b[0m\u001b[0mcomponents_\u001b[0m\u001b[0;34m)\u001b[0m\u001b[0;34m\u001b[0m\u001b[0;34m\u001b[0m\u001b[0m\n\u001b[0m",
      "\u001b[0;32m<__array_function__ internals>\u001b[0m in \u001b[0;36mdot\u001b[0;34m(*args, **kwargs)\u001b[0m\n",
      "\u001b[0;31mValueError\u001b[0m: shapes (7914,272) and (100,272) not aligned: 272 (dim 1) != 100 (dim 0)"
     ]
    }
   ],
   "source": [
    "svd.inverse_transform(X)"
   ]
  },
  {
   "cell_type": "code",
   "execution_count": null,
   "metadata": {},
   "outputs": [],
   "source": []
  }
 ],
 "metadata": {
  "kernelspec": {
   "display_name": "Python 3",
   "language": "python",
   "name": "python3"
  },
  "language_info": {
   "codemirror_mode": {
    "name": "ipython",
    "version": 3
   },
   "file_extension": ".py",
   "mimetype": "text/x-python",
   "name": "python",
   "nbconvert_exporter": "python",
   "pygments_lexer": "ipython3",
   "version": "3.7.4"
  }
 },
 "nbformat": 4,
 "nbformat_minor": 2
}
